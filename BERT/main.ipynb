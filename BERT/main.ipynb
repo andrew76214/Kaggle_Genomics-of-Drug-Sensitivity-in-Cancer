{
 "cells": [
  {
   "cell_type": "code",
   "execution_count": null,
   "metadata": {},
   "outputs": [],
   "source": [
    "import kagglehub\n",
    "import torch\n",
    "import torch.optim as optim\n",
    "from data_loader_BERT import DataLoader4BERT\n",
    "from model import TransformerForNumericPrediction\n",
    "from utils import train, evaluate, adjust_learning_rate\n",
    "from config import LEARNING_RATE, NUM_EPOCHS, PREVIOUS_LOSS, BERT_MODEL_NAME\n",
    "\n",
    "device = torch.device(\"cuda\" if torch.cuda.is_available() else \"cpu\")\n",
    "\n",
    "# Load dataset\n",
    "path = kagglehub.dataset_download(\"samiraalipour/genomics-of-drug-sensitivity-in-cancer-gdsc\")\n",
    "print(\"Path to dataset files:\", path)\n",
    "\n",
    "dataloader = DataLoader4BERT(\n",
    "    gdsc_path = path + '/GDSC_DATASET.csv',\n",
    "    compounds_path = path + '/Compounds-annotation.csv',\n",
    "    gdsc2_path = path + '/GDSC2-dataset.csv',\n",
    "    cell_lines_path = path + '/Cell_Lines_Details.xlsx',\n",
    ")\n",
    "\n",
    "X_train_numeric, X_train_text, y_train_tensor, X_test_numeric, X_test_text, y_test_tensor = dataloader.get_data()\n",
    "\n",
    "# Move necessary data to GPU\n",
    "input_ids_train = X_train_text[\"input_ids\"].to(device)\n",
    "attention_mask_train = X_train_text[\"attention_mask\"].to(device)\n",
    "X_train_numeric = X_train_numeric.to(device)\n",
    "y_train_tensor = y_train_tensor.to(device)\n",
    "\n",
    "input_ids_test = X_test_text[\"input_ids\"].to(device)\n",
    "attention_mask_test = X_test_text[\"attention_mask\"].to(device)\n",
    "X_test_numeric = X_test_numeric.to(device)\n",
    "y_test_tensor = y_test_tensor.to(device)"
   ]
  },
  {
   "cell_type": "code",
   "execution_count": 2,
   "metadata": {},
   "outputs": [
    {
     "name": "stderr",
     "output_type": "stream",
     "text": [
      "Some weights of RobertaModel were not initialized from the model checkpoint at roberta-base and are newly initialized: ['roberta.pooler.dense.bias', 'roberta.pooler.dense.weight']\n",
      "You should probably TRAIN this model on a down-stream task to be able to use it for predictions and inference.\n"
     ]
    }
   ],
   "source": [
    "# Load pre-trained model\n",
    "model = TransformerForNumericPrediction(model_name=BERT_MODEL_NAME, num_numeric_features=X_train_numeric.shape[1])\n",
    "model = model.to(device)\n",
    "\n",
    "optimizer = optim.Adam(model.parameters(), lr=LEARNING_RATE)"
   ]
  },
  {
   "cell_type": "code",
   "execution_count": 3,
   "metadata": {},
   "outputs": [
    {
     "name": "stdout",
     "output_type": "stream",
     "text": [
      "Epoch 1/20, Training Loss: 4.5950\n",
      "Epoch 2/20, Training Loss: 3.1991\n",
      "Epoch 3/20, Training Loss: 3.0998\n",
      "Epoch 4/20, Training Loss: 3.1003\n",
      "Learning rate decreased to 1.800000e-05\n",
      "Epoch 5/20, Training Loss: 3.0986\n",
      "Epoch 6/20, Training Loss: 3.0981\n",
      "Epoch 7/20, Training Loss: 3.0980\n",
      "Epoch 8/20, Training Loss: 3.0974\n",
      "Epoch 9/20, Training Loss: 3.0971\n",
      "Epoch 10/20, Training Loss: 3.0968\n",
      "Epoch 11/20, Training Loss: 3.0966\n",
      "Epoch 12/20, Training Loss: 3.0969\n",
      "Learning rate decreased to 1.620000e-05\n",
      "Epoch 13/20, Training Loss: 3.0961\n",
      "Epoch 14/20, Training Loss: 3.0962\n",
      "Learning rate decreased to 1.458000e-05\n",
      "Epoch 15/20, Training Loss: 3.0958\n",
      "Epoch 16/20, Training Loss: 3.0961\n",
      "Learning rate decreased to 1.312200e-05\n",
      "Epoch 17/20, Training Loss: 3.0956\n",
      "Epoch 18/20, Training Loss: 3.0950\n",
      "Epoch 19/20, Training Loss: 3.0950\n",
      "Learning rate decreased to 1.180980e-05\n",
      "Epoch 20/20, Training Loss: 3.0948\n"
     ]
    }
   ],
   "source": [
    "# Training loop\n",
    "num_epochs = NUM_EPOCHS\n",
    "previous_loss = PREVIOUS_LOSS\n",
    "for epoch in range(num_epochs):\n",
    "    train_loss = train(model, input_ids_train, attention_mask_train, X_train_numeric, y_train_tensor, optimizer)\n",
    "    print(f\"Epoch {epoch + 1}/{num_epochs}, Training Loss: {train_loss:.4f}\")\n",
    "    \n",
    "    # Adjust learning rate based on loss\n",
    "    adjust_learning_rate(optimizer, train_loss, previous_loss)\n",
    "    previous_loss = train_loss"
   ]
  },
  {
   "cell_type": "code",
   "execution_count": 4,
   "metadata": {},
   "outputs": [
    {
     "name": "stdout",
     "output_type": "stream",
     "text": [
      "CSV file 'BERT_results.csv' has been created!\n",
      "Mean Square Error on Test Data: 3.0844\n"
     ]
    }
   ],
   "source": [
    "# Evaluate on test data\n",
    "mae, mse = evaluate(model, input_ids_test, attention_mask_test, X_test_numeric, y_test_tensor)\n",
    "# print(f\"Mean Absolute Error on Test Data: {mae:.4f}\")\n",
    "print(f\"Mean Square Error on Test Data: {mse:.4f}\")"
   ]
  },
  {
   "cell_type": "markdown",
   "metadata": {},
   "source": [
    "## Epoch 5\n",
    "\n",
    "roberta Mean Square Error on Test Data: 3.1066\n",
    "\n",
    "microsoft/deberta-v3-base Mean Square Error on Test Data: 3.1144"
   ]
  },
  {
   "cell_type": "markdown",
   "metadata": {},
   "source": [
    "## Epoch 20\n",
    "\n",
    "bert-base-uncased Mean Square Error on Test Data: 3.0704\n",
    "\n",
    "roberta-base Mean Square Error on Test Data: 3.0844\n",
    "\n",
    "microsoft/deberta-v3-base Mean Square Error on Test Data: 3.0943\n",
    "\n",
    "microsoft/deberta-v3-large Mean Square Error on Test Data: 3.1113"
   ]
  }
 ],
 "metadata": {
  "kernelspec": {
   "display_name": "aicup",
   "language": "python",
   "name": "python3"
  },
  "language_info": {
   "codemirror_mode": {
    "name": "ipython",
    "version": 3
   },
   "file_extension": ".py",
   "mimetype": "text/x-python",
   "name": "python",
   "nbconvert_exporter": "python",
   "pygments_lexer": "ipython3",
   "version": "3.11.10"
  }
 },
 "nbformat": 4,
 "nbformat_minor": 2
}
