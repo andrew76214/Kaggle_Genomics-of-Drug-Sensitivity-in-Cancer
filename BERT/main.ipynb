{
 "cells": [
  {
   "cell_type": "code",
   "execution_count": 1,
   "metadata": {},
   "outputs": [
    {
     "name": "stderr",
     "output_type": "stream",
     "text": [
      "/home/andrew-root/miniconda3/envs/pytorch/lib/python3.12/site-packages/tqdm/auto.py:21: TqdmWarning: IProgress not found. Please update jupyter and ipywidgets. See https://ipywidgets.readthedocs.io/en/stable/user_install.html\n",
      "  from .autonotebook import tqdm as notebook_tqdm\n"
     ]
    },
    {
     "name": "stdout",
     "output_type": "stream",
     "text": [
      "Path to dataset files: /home/andrew-root/.cache/kagglehub/datasets/samiraalipour/genomics-of-drug-sensitivity-in-cancer-gdsc/versions/2\n"
     ]
    },
    {
     "name": "stderr",
     "output_type": "stream",
     "text": [
      "/home/andrew-root/miniconda3/envs/pytorch/lib/python3.12/site-packages/openpyxl/worksheet/_reader.py:329: UserWarning: Unknown extension is not supported and will be removed\n",
      "  warn(msg)\n"
     ]
    },
    {
     "name": "stdout",
     "output_type": "stream",
     "text": [
      "Loading Done!\n",
      "Preprocess Done!\n",
      "數值特徵與文本特徵分配完成\n"
     ]
    }
   ],
   "source": [
    "import kagglehub\n",
    "import torch\n",
    "import torch.optim as optim\n",
    "from data_loader_BERT import DataLoader4BERT\n",
    "from model import TransformerForNumericPrediction\n",
    "from utils import train, evaluate, adjust_learning_rate\n",
    "from config import LEARNING_RATE, NUM_EPOCHS, PREVIOUS_LOSS, BERT_MODEL_NAME\n",
    "\n",
    "device = torch.device(\"cuda\" if torch.cuda.is_available() else \"cpu\")\n",
    "\n",
    "# Load dataset\n",
    "path = kagglehub.dataset_download(\"samiraalipour/genomics-of-drug-sensitivity-in-cancer-gdsc\")\n",
    "print(\"Path to dataset files:\", path)\n",
    "\n",
    "dataloader = DataLoader4BERT(\n",
    "    gdsc_path = path + '/GDSC_DATASET.csv',\n",
    "    compounds_path = path + '/Compounds-annotation.csv',\n",
    "    gdsc2_path = path + '/GDSC2-dataset.csv',\n",
    "    cell_lines_path = path + '/Cell_Lines_Details.xlsx',\n",
    ")\n",
    "\n",
    "X_train_numeric, X_train_text, y_train_tensor, X_test_numeric, X_test_text, y_test_tensor = dataloader.get_data()\n",
    "\n",
    "# Move necessary data to GPU\n",
    "input_ids_train = X_train_text[\"input_ids\"].to(device)\n",
    "attention_mask_train = X_train_text[\"attention_mask\"].to(device)\n",
    "X_train_numeric = X_train_numeric.to(device)\n",
    "y_train_tensor = y_train_tensor.to(device)\n",
    "\n",
    "input_ids_test = X_test_text[\"input_ids\"].to(device)\n",
    "attention_mask_test = X_test_text[\"attention_mask\"].to(device)\n",
    "X_test_numeric = X_test_numeric.to(device)\n",
    "y_test_tensor = y_test_tensor.to(device)"
   ]
  },
  {
   "cell_type": "code",
   "execution_count": 2,
   "metadata": {},
   "outputs": [],
   "source": [
    "# Load pre-trained model\n",
    "model = TransformerForNumericPrediction(model_name=BERT_MODEL_NAME, num_numeric_features=X_train_numeric.shape[1])\n",
    "model = model.to(device)\n",
    "\n",
    "optimizer = optim.Adam(model.parameters(), lr=LEARNING_RATE)"
   ]
  },
  {
   "cell_type": "code",
   "execution_count": null,
   "metadata": {},
   "outputs": [],
   "source": [
    "# Training loop\n",
    "num_epochs = NUM_EPOCHS\n",
    "previous_loss = PREVIOUS_LOSS\n",
    "for epoch in range(num_epochs):\n",
    "    train_loss = train(model, input_ids_train, attention_mask_train, X_train_numeric, y_train_tensor, optimizer)\n",
    "    print(f\"Epoch {epoch + 1}/{num_epochs}, Training Loss: {train_loss:.4f}\")\n",
    "    \n",
    "    # Adjust learning rate based on loss\n",
    "    adjust_learning_rate(optimizer, train_loss, previous_loss)\n",
    "    previous_loss = train_loss"
   ]
  },
  {
   "cell_type": "code",
   "execution_count": null,
   "metadata": {},
   "outputs": [],
   "source": [
    "# Evaluate on test data\n",
    "mae, mse = evaluate(model, input_ids_test, attention_mask_test, X_test_numeric, y_test_tensor)\n",
    "# print(f\"Mean Absolute Error on Test Data: {mae:.4f}\")\n",
    "print(f\"Mean Square Error on Test Data: {mse:.4f}\")"
   ]
  },
  {
   "cell_type": "markdown",
   "metadata": {},
   "source": [
    "roberta Mean Square Error on Test Data: 3.1066"
   ]
  }
 ],
 "metadata": {
  "kernelspec": {
   "display_name": "pytorch",
   "language": "python",
   "name": "python3"
  },
  "language_info": {
   "codemirror_mode": {
    "name": "ipython",
    "version": 3
   },
   "file_extension": ".py",
   "mimetype": "text/x-python",
   "name": "python",
   "nbconvert_exporter": "python",
   "pygments_lexer": "ipython3",
   "version": "3.12.7"
  }
 },
 "nbformat": 4,
 "nbformat_minor": 2
}
