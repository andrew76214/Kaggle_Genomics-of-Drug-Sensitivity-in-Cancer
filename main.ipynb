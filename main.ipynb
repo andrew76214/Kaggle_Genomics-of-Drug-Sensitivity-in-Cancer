{
 "cells": [
  {
   "cell_type": "code",
   "execution_count": null,
   "metadata": {},
   "outputs": [],
   "source": [
    "!nvidia-smi"
   ]
  },
  {
   "cell_type": "code",
   "execution_count": null,
   "metadata": {},
   "outputs": [],
   "source": [
    "import warnings \n",
    "warnings.filterwarnings('ignore')\n",
    "\n",
    "import torch\n",
    "import torch.nn as nn\n",
    "from sklearn.metrics import mean_squared_error, mean_absolute_error\n",
    "import matplotlib.pyplot as plt\n",
    "from utils import DataLoader, MLP_Tuner, CNNTransformer_Tuner\n",
    "\n",
    "device = 'cuda' if torch.cuda.is_available() else 'cpu'\n",
    "\n",
    "import kagglehub\n",
    "\n",
    "# Download latest version\n",
    "path = kagglehub.dataset_download(\"samiraalipour/genomics-of-drug-sensitivity-in-cancer-gdsc\")\n",
    "\n",
    "print(\"Path to dataset files:\", path)\n",
    "\n",
    "dataloader = DataLoader(path + '/GDSC_DATASET.csv',\n",
    "                        path + '/Compounds-annotation.csv',\n",
    "                        path + '/GDSC2-dataset.csv',\n",
    "                        path + '/Cell_Lines_Details.xlsx')\n",
    "dataloader.load_data()\n",
    "dataloader.preprocess_data()\n",
    "dataloader.define_features_and_target()\n",
    "\n",
    "# Convert the data to PyTorch tensors\n",
    "X_train_tensor, y_train_tensor, X_test_tensor, y_test_tensor, input_dim = dataloader.Convert_to_tensors()"
   ]
  },
  {
   "cell_type": "markdown",
   "metadata": {},
   "source": [
    "## ML"
   ]
  },
  {
   "cell_type": "code",
   "execution_count": null,
   "metadata": {},
   "outputs": [],
   "source": [
    "# Initialize the tuner\n",
    "MLP_tuner = MLP_Tuner(input_dim)\n",
    "\n",
    "# Tune hyperparameters\n",
    "best_model = MLP_tuner.tune_hyperparameters(X_train_tensor, y_train_tensor)"
   ]
  },
  {
   "cell_type": "code",
   "execution_count": null,
   "metadata": {},
   "outputs": [],
   "source": [
    "# Evaluate the best model on the test set\n",
    "train_losses = []\n",
    "val_losses = []\n",
    "\n",
    "for epoch in range(best_model.max_epochs):\n",
    "    best_model.partial_fit(X_train_tensor, y_train_tensor)\n",
    "    train_pred = best_model.predict(X_train_tensor).squeeze()\n",
    "    val_pred = best_model.predict(X_test_tensor).squeeze()\n",
    "    train_loss = mean_squared_error(y_train_tensor.numpy(), train_pred)\n",
    "    val_loss = mean_squared_error(y_test_tensor.numpy(), val_pred)\n",
    "    train_losses.append(train_loss)\n",
    "    val_losses.append(val_loss)"
   ]
  },
  {
   "cell_type": "code",
   "execution_count": null,
   "metadata": {},
   "outputs": [],
   "source": [
    "# Plot training and validation loss to check for overfitting\n",
    "plt.figure(figsize=(10, 6))\n",
    "plt.plot(range(1, best_model.max_epochs + 1), train_losses, label='Training Loss')\n",
    "plt.plot(range(1, best_model.max_epochs + 1), val_losses, label='Validation Loss')\n",
    "plt.xlabel('Epochs')\n",
    "plt.ylabel('Loss (MSE)')\n",
    "plt.title('Training and Validation Loss')\n",
    "plt.legend()\n",
    "plt.grid(True)\n",
    "plt.show()"
   ]
  },
  {
   "cell_type": "code",
   "execution_count": null,
   "metadata": {},
   "outputs": [],
   "source": [
    "# Evaluate the best model on the test set\n",
    "# best_model.eval()\n",
    "with torch.no_grad():\n",
    "    predictions = best_model.predict(X_test_tensor).squeeze()\n",
    "    predictions = torch.tensor(predictions)    \n",
    "    \n",
    "    # Calculate RMSE, MAE, and MSE\n",
    "    rmse = torch.sqrt(nn.MSELoss()(predictions, y_test_tensor)).item()\n",
    "    mae = mean_absolute_error(y_test_tensor.numpy(), predictions.numpy())\n",
    "    mse = mean_squared_error(y_test_tensor.numpy(), predictions.numpy())\n",
    "    \n",
    "    print(f\"Test RMSE: {rmse:.4f}\")\n",
    "    print(f\"Test MAE: {mae:.4f}\")\n",
    "    print(f\"Test MSE: {mse:.4f}\")"
   ]
  },
  {
   "cell_type": "markdown",
   "metadata": {},
   "source": [
    "## DL"
   ]
  },
  {
   "cell_type": "code",
   "execution_count": null,
   "metadata": {},
   "outputs": [],
   "source": [
    "# Initialize the tuner\n",
    "CNNTransformer_tuner = CNNTransformer_Tuner(input_dim)\n",
    "\n",
    "# Tune hyperparameters\n",
    "best_model = CNNTransformer_tuner.tune_hyperparameters(X_train_tensor, y_train_tensor)"
   ]
  },
  {
   "cell_type": "code",
   "execution_count": null,
   "metadata": {},
   "outputs": [],
   "source": [
    "# Evaluate the best model on the test set\n",
    "train_losses = []\n",
    "val_losses = []\n",
    "\n",
    "for epoch in range(best_model.max_epochs):\n",
    "    best_model.partial_fit(X_train_tensor, y_train_tensor)\n",
    "    train_pred = best_model.predict(X_train_tensor).squeeze()\n",
    "    val_pred = best_model.predict(X_test_tensor).squeeze()\n",
    "    train_loss = mean_squared_error(y_train_tensor.numpy(), train_pred)\n",
    "    val_loss = mean_squared_error(y_test_tensor.numpy(), val_pred)\n",
    "    train_losses.append(train_loss)\n",
    "    val_losses.append(val_loss)"
   ]
  },
  {
   "cell_type": "code",
   "execution_count": null,
   "metadata": {},
   "outputs": [],
   "source": [
    "# Plot training and validation loss to check for overfitting\n",
    "plt.figure(figsize=(10, 6))\n",
    "plt.plot(range(1, best_model.max_epochs + 1), train_losses, label='Training Loss')\n",
    "plt.plot(range(1, best_model.max_epochs + 1), val_losses, label='Validation Loss')\n",
    "plt.xlabel('Epochs')\n",
    "plt.ylabel('Loss (MSE)')\n",
    "plt.title('Training and Validation Loss')\n",
    "plt.legend()\n",
    "plt.grid(True)\n",
    "plt.show()"
   ]
  },
  {
   "cell_type": "code",
   "execution_count": null,
   "metadata": {},
   "outputs": [],
   "source": [
    "# Evaluate the best model on the test set\n",
    "# best_model.eval()\n",
    "with torch.no_grad():\n",
    "    predictions = best_model.predict(X_test_tensor).squeeze()\n",
    "    predictions = torch.tensor(predictions)    \n",
    "    \n",
    "    # Calculate RMSE, MAE, and MSE\n",
    "    rmse = torch.sqrt(nn.MSELoss()(predictions, y_test_tensor)).item()\n",
    "    mae = mean_absolute_error(y_test_tensor.numpy(), predictions.numpy())\n",
    "    mse = mean_squared_error(y_test_tensor.numpy(), predictions.numpy())\n",
    "    \n",
    "    print(f\"Test RMSE: {rmse:.4f}\")\n",
    "    print(f\"Test MAE: {mae:.4f}\")\n",
    "    print(f\"Test MSE: {mse:.4f}\")"
   ]
  }
 ],
 "metadata": {
  "kernelspec": {
   "display_name": "assignment",
   "language": "python",
   "name": "python3"
  },
  "language_info": {
   "codemirror_mode": {
    "name": "ipython",
    "version": 3
   },
   "file_extension": ".py",
   "mimetype": "text/x-python",
   "name": "python",
   "nbconvert_exporter": "python",
   "pygments_lexer": "ipython3",
   "version": "3.11.10"
  }
 },
 "nbformat": 4,
 "nbformat_minor": 2
}
